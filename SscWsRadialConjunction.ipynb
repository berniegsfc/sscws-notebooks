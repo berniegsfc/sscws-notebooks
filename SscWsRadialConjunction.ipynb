{
 "cells": [
  {
   "cell_type": "markdown",
   "metadata": {},
   "source": [
    "## sscws Conjunction Example Jupyter Notebook\n",
    "This [notebook](https://jupyter.org) demonstrates using the [sscws](https://pypi.org/project/sscws/) to find radial traced satellite conjunctions with a ground location.  "
   ]
  },
  {
   "cell_type": "markdown",
   "metadata": {},
   "source": [
    "### Prerequisites\n",
    "\n",
    "1. pip install sscws"
   ]
  },
  {
   "cell_type": "markdown",
   "metadata": {},
   "source": [
    "### Setup"
   ]
  },
  {
   "cell_type": "code",
   "execution_count": 6,
   "metadata": {},
   "outputs": [],
   "source": [
    "import numpy as np\n",
    "from sscws.sscws import SscWs\n",
    "from sscws.conjunctions import BoxConjunctionArea, ConditionOperator,\\\n",
    "    GroundStationCondition, GroundStationConjunction,\\\n",
    "    Satellite, SatelliteCondition, TraceCoordinateSystem\n",
    "from sscws.coordinates import CoordinateComponent, CoordinateSystem,\\\n",
    "    SurfaceGeographicCoordinates\n",
    "from sscws.request import DataRequest, QueryRequest, SatelliteSpecification\n",
    "from sscws.timeinterval import TimeInterval\n",
    "from sscws.tracing import BFieldTraceDirection, TraceType\n",
    "ssc = SscWs()"
   ]
  },
  {
   "cell_type": "markdown",
   "metadata": {},
   "source": [
    "### Define Conjunction Query\n",
    "Define a query to find radial traced conjuctions of a satellite and a ground location."
   ]
  },
  {
   "cell_type": "code",
   "execution_count": 7,
   "metadata": {},
   "outputs": [],
   "source": [
    "sats = [\n",
    "    Satellite('iss')\n",
    "]\n",
    "satellite_condition = SatelliteCondition(sats, 1)\n",
    "\n",
    "box_conjunction_area = BoxConjunctionArea(TraceCoordinateSystem.GEO,\n",
    "                                          3.00, 10.00)\n",
    "\n",
    "ground_stations = [\n",
    "    GroundStationConjunction('GSFC', 'GSFC',\\\n",
    "        SurfaceGeographicCoordinates(39.99, -76.84),\\\n",
    "        box_conjunction_area)\n",
    "]\n",
    "ground_station_condition = \\\n",
    "    GroundStationCondition(ground_stations,\n",
    "                            TraceCoordinateSystem.GEO,\n",
    "                            TraceType.RADIAL)\n",
    "conditions = [\n",
    "    satellite_condition,\n",
    "    ground_station_condition\n",
    "]\n",
    "query_request = \\\n",
    "    QueryRequest('ISS radial trace conjunction with ground location.',\n",
    "                 TimeInterval('2018-07-12T00:00:00Z',\n",
    "                              '2018-07-15T23:59:59Z'),\n",
    "                 ConditionOperator.ALL,\n",
    "                 conditions)\n"
   ]
  },
  {
   "cell_type": "markdown",
   "metadata": {},
   "source": [
    "### Run Conjunction Query\n",
    "Submit the conjunction query to [SSC](https://sscweb.gsfc.nasa.gov) for evaluation."
   ]
  },
  {
   "cell_type": "code",
   "execution_count": 8,
   "metadata": {},
   "outputs": [],
   "source": [
    "result = ssc.get_conjunctions(query_request)"
   ]
  },
  {
   "cell_type": "markdown",
   "metadata": {},
   "source": [
    "### Display the results"
   ]
  },
  {
   "cell_type": "code",
   "execution_count": 9,
   "metadata": {
    "scrolled": true
   },
   "outputs": [
    {
     "name": "stdout",
     "output_type": "stream",
     "text": [
      "StatusCode: ResultStatusCode.SUCCESS StatusSubCode: ResultStatusSubCode.SUCCESS\n",
      "2018-07-12T05:23:00+00:00 to 2018-07-12T05:23:00+00:00\n",
      "  Satellite      Lat     Lon    Radius Ground Station           Lat     Lon    ArcLen\n",
      "  iss          39.30  283.52   6777.00 GSFC                   39.30  283.52      0.00\n",
      "2018-07-12T11:52:00+00:00 to 2018-07-12T11:52:00+00:00\n",
      "  Satellite      Lat     Lon    Radius Ground Station           Lat     Lon    ArcLen\n",
      "  iss          39.80  282.96   6780.00 GSFC                   39.80  282.96      0.00\n",
      "2018-07-15T04:23:00+00:00 to 2018-07-15T04:24:00+00:00\n",
      "  Satellite      Lat     Lon    Radius Ground Station           Lat     Lon    ArcLen\n",
      "  iss          39.18  280.64   6778.00 GSFC                   39.18  280.64      0.00\n",
      "  iss          41.44  284.55   6778.00 GSFC                   41.44  284.55      0.00\n",
      "2018-07-15T10:52:00+00:00 to 2018-07-15T10:52:00+00:00\n",
      "  Satellite      Lat     Lon    Radius Ground Station           Lat     Lon    ArcLen\n",
      "  iss          39.35  281.08   6781.00 GSFC                   39.35  281.08      0.00\n"
     ]
    }
   ],
   "source": [
    "SscWs.print_conjunction_result(result)"
   ]
  },
  {
   "cell_type": "markdown",
   "metadata": {},
   "source": [
    "### Additional Documentation\n",
    "View the [sscws API](https://sscweb.gsfc.nasa.gov/WebServices/REST/py/sscws/) for additional features."
   ]
  },
  {
   "cell_type": "code",
   "execution_count": null,
   "metadata": {},
   "outputs": [],
   "source": []
  }
 ],
 "metadata": {
  "kernelspec": {
   "display_name": "Python 3",
   "language": "python",
   "name": "python3"
  },
  "language_info": {
   "codemirror_mode": {
    "name": "ipython",
    "version": 3
   },
   "file_extension": ".py",
   "mimetype": "text/x-python",
   "name": "python",
   "nbconvert_exporter": "python",
   "pygments_lexer": "ipython3",
   "version": "3.6.12"
  }
 },
 "nbformat": 4,
 "nbformat_minor": 5
}
