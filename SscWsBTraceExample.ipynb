{
 "cells": [
  {
   "cell_type": "markdown",
   "metadata": {},
   "source": [
    "# sscws Magnetic Field Line Trace Example Jupyter Notebook\n",
    "\n",
    "This [Jupyter notebook](https://jupyter.org/) demonstrates using the [sscws](https://pypi.org/project/sscws/) Python package to access satellite location and (modeled) magnetic field-line tracing information.  It also demonstrates how to handle an error and display the error message when an invalid request is made.   This notebook contains the following sections:\n",
    "\n",
    "1. [Prerequisites](#Prerequisites)\n",
    "2. [Setup](#Setup)\n",
    "3. [Define a magnetic field line trace request](#Define-a-magnetic-field-line-trace-request)\n",
    "4. [Get Locations](#Get-Locations)\n",
    "5. [Error Handling](#Error-Handling)\n",
    "6. [Additional Documentation](#Additional-Documentation)"
   ]
  },
  {
   "cell_type": "markdown",
   "metadata": {},
   "source": [
    "## Prerequisites\n",
    "Install the prerequisite software from the [Python Package Index](https://pypi.org/project/sscws/) if it is not already installed."
   ]
  },
  {
   "cell_type": "code",
   "execution_count": 1,
   "metadata": {},
   "outputs": [],
   "source": [
    "#%pip install -U sscws"
   ]
  },
  {
   "cell_type": "markdown",
   "metadata": {},
   "source": [
    "## Setup\n",
    "Execute some preliminary code that is necessary before the code that follows."
   ]
  },
  {
   "cell_type": "code",
   "execution_count": 2,
   "metadata": {},
   "outputs": [],
   "source": [
    "from sscws.sscws import SscWs\n",
    "from sscws.bfieldmodels import BFieldModel, Tsyganenko89cBFieldModel\n",
    "from sscws.coordinates import CoordinateComponent, CoordinateSystem,\\\n",
    "    SurfaceGeographicCoordinates\n",
    "from sscws.filteroptions import LocationFilterOptions,\\\n",
    "    MappedRegionFilterOptions, RegionFilterOptions,\\\n",
    "    SpaceRegionsFilterOptions\n",
    "from sscws.outputoptions import CoordinateOptions, BFieldTraceOptions,\\\n",
    "    DistanceFromOptions, LocationFilter, OutputOptions, RegionOptions,\\\n",
    "    ValueOptions\n",
    "from sscws.regions import Hemisphere, HemisphereRegions\n",
    "from sscws.request import DataRequest, SatelliteSpecification\n",
    "from sscws.timeinterval import TimeInterval\n",
    "ssc = SscWs()"
   ]
  },
  {
   "cell_type": "markdown",
   "metadata": {},
   "source": [
    "## Define a magnetic field line trace request\n",
    "The following code defines a request for many values including magnetic field line tracing."
   ]
  },
  {
   "cell_type": "code",
   "execution_count": 3,
   "metadata": {},
   "outputs": [],
   "source": [
    "    sats = [SatelliteSpecification('themisa', 2)]\n",
    "\n",
    "    b_field_model = BFieldModel(external=Tsyganenko89cBFieldModel())\n",
    "    coord_options = [\n",
    "        CoordinateOptions(CoordinateSystem.GSE, CoordinateComponent.X),\n",
    "        CoordinateOptions(CoordinateSystem.GSE, CoordinateComponent.Y),\n",
    "        CoordinateOptions(CoordinateSystem.GSE, CoordinateComponent.Z),\n",
    "        CoordinateOptions(CoordinateSystem.GSE, CoordinateComponent.LAT),\n",
    "        CoordinateOptions(CoordinateSystem.GSE, CoordinateComponent.LON),\n",
    "        CoordinateOptions(CoordinateSystem.GSE, CoordinateComponent.LOCAL_TIME)\n",
    "        ]\n",
    "    b_field_trace_options = [\n",
    "        BFieldTraceOptions(CoordinateSystem.GEO, Hemisphere.NORTH,\n",
    "                           True, True, True),\n",
    "        BFieldTraceOptions(CoordinateSystem.GEO, Hemisphere.SOUTH,\n",
    "                           True, True, True)\n",
    "        ]\n",
    "\n",
    "    output_options = OutputOptions(\n",
    "        coord_options,\n",
    "        None, None,\n",
    "        RegionOptions(True, True, True, True),\n",
    "        ValueOptions(True, True, True, True),\n",
    "        DistanceFromOptions(True, True, True, True),\n",
    "        b_field_trace_options\n",
    "        )\n",
    "    loc_filter = LocationFilter(0, 100000, True, True)\n",
    "\n",
    "    hemisphere_region = HemisphereRegions(True, True)\n",
    "    trace_regions = MappedRegionFilterOptions(hemisphere_region,\n",
    "                                              hemisphere_region,\n",
    "                                              hemisphere_region,\n",
    "                                              hemisphere_region,\n",
    "                                              hemisphere_region,\n",
    "                                              True)\n",
    "    srfo = SpaceRegionsFilterOptions(True, True, True, True, True, True,\n",
    "                                     True, True, True, True, True)\n",
    "\n",
    "    rfo = RegionFilterOptions(srfo, trace_regions, trace_regions)\n",
    "\n",
    "    format_options = None\n",
    "    \n",
    "    loc_request = DataRequest('themisa b-trace locator request.',\n",
    "                              TimeInterval('2020-10-02T00:00:00Z',\n",
    "                                           '2020-10-02T00:10:00Z'),\n",
    "                              sats, b_field_model,\n",
    "                              output_options, None,\n",
    "                              None, format_options)\n"
   ]
  },
  {
   "cell_type": "markdown",
   "metadata": {},
   "source": [
    "## Get Locations\n",
    "The following code submits the request created above to the SSC server and displays the results."
   ]
  },
  {
   "cell_type": "code",
   "execution_count": 4,
   "metadata": {},
   "outputs": [
    {
     "name": "stdout",
     "output_type": "stream",
     "text": [
      "themisa Gse\n",
      "Time                      X                      Y                      Z                     \n",
      "2020-10-02 00:00:00+00:00 25391.88098727723 76038.43619724039 17541.7997889056\n",
      "2020-10-02 00:02:00+00:00 25311.055308443832 76129.3806396425 17540.543107991354\n",
      "2020-10-02 00:04:00+00:00 25230.012585797875 76219.59380941694 17539.064278511694\n",
      "2020-10-02 00:06:00+00:00 25148.727958863146 76308.92368175219 17537.406958795487\n",
      "2020-10-02 00:08:00+00:00 25067.11881894818 76397.48618096307 17535.613675572848\n",
      "2020-10-02 00:10:00+00:00 24985.290906646485 76485.30788933998 17533.59663819248\n",
      "Geo North Magnetic Field-Line Trace Footpoints\n",
      "Time                           Latitude         Longitude    Arc Length\n",
      "2020-10-02 00:00:00+00:00             nan             nan             nan\n",
      "2020-10-02 00:02:00+00:00             nan             nan             nan\n",
      "2020-10-02 00:04:00+00:00             nan             nan             nan\n",
      "2020-10-02 00:06:00+00:00             nan             nan             nan\n",
      "2020-10-02 00:08:00+00:00             nan             nan             nan\n",
      "2020-10-02 00:10:00+00:00             nan             nan             nan\n",
      "Geo South Magnetic Field-Line Trace Footpoints\n",
      "Time                           Latitude         Longitude    Arc Length\n",
      "2020-10-02 00:00:00+00:00       -69.81784       168.72221    121605.15746\n",
      "2020-10-02 00:02:00+00:00       -69.74149       168.46269    121638.26077\n",
      "2020-10-02 00:04:00+00:00       -69.66567       168.20421    121668.47797\n",
      "2020-10-02 00:06:00+00:00       -69.59042       167.94714    121695.10663\n",
      "2020-10-02 00:08:00+00:00       -69.51577       167.69150    121718.42499\n",
      "2020-10-02 00:10:00+00:00       -69.44167       167.43703    121738.81353\n",
      "Time                      RadialLength\n",
      "2020-10-02 00:00:00+00:00 82062.81806431271\n",
      "2020-10-02 00:02:00+00:00 82121.87734979142\n",
      "2020-10-02 00:04:00+00:00 82180.28206903554\n",
      "2020-10-02 00:06:00+00:00 82237.89250694639\n",
      "2020-10-02 00:08:00+00:00 82294.79969878629\n",
      "2020-10-02 00:10:00+00:00 82351.04167902487\n",
      "Time                      MagneticStrength\n",
      "2020-10-02 00:00:00+00:00 31.813957039877756\n",
      "2020-10-02 00:02:00+00:00 31.804102757778182\n",
      "2020-10-02 00:04:00+00:00 31.795120441618316\n",
      "2020-10-02 00:06:00+00:00 31.787039602521645\n",
      "2020-10-02 00:08:00+00:00 31.779783334298298\n",
      "2020-10-02 00:10:00+00:00 31.77338475318872\n",
      "Time                      NeutralSheetDistance\n",
      "2020-10-02 00:00:00+00:00 -1e+31\n",
      "2020-10-02 00:02:00+00:00 -1e+31\n",
      "2020-10-02 00:04:00+00:00 -1e+31\n",
      "2020-10-02 00:06:00+00:00 -1e+31\n",
      "2020-10-02 00:08:00+00:00 -1e+31\n",
      "2020-10-02 00:10:00+00:00 -1e+31\n",
      "Time                      BowShockDistance\n",
      "2020-10-02 00:00:00+00:00 -42794.684772843706\n",
      "2020-10-02 00:02:00+00:00 -42819.04155897035\n",
      "2020-10-02 00:04:00+00:00 -42843.990692614556\n",
      "2020-10-02 00:06:00+00:00 -42869.616659119936\n",
      "2020-10-02 00:08:00+00:00 -42895.578961354266\n",
      "2020-10-02 00:10:00+00:00 -42921.74402840615\n",
      "Time                      MagnetoPauseDistance\n",
      "2020-10-02 00:00:00+00:00 -238.04246637642478\n",
      "2020-10-02 00:02:00+00:00 -224.52115205570763\n",
      "2020-10-02 00:04:00+00:00 -211.31300208932416\n",
      "2020-10-02 00:06:00+00:00 -198.97172601398145\n",
      "2020-10-02 00:08:00+00:00 -187.45872025079237\n",
      "2020-10-02 00:10:00+00:00 -176.69914710596737\n",
      "Time                      DipoleLValue\n",
      "2020-10-02 00:00:00+00:00 12.90922030614532\n",
      "2020-10-02 00:02:00+00:00 12.920001852521048\n",
      "2020-10-02 00:04:00+00:00 12.930719164789712\n",
      "2020-10-02 00:06:00+00:00 12.941349401456149\n",
      "2020-10-02 00:08:00+00:00 12.951906825744155\n",
      "2020-10-02 00:10:00+00:00 12.962399896923625\n",
      "Time                      DipoleInvariantLatitude\n",
      "2020-10-02 00:00:00+00:00 73.83982\n",
      "2020-10-02 00:02:00+00:00 73.846756\n",
      "2020-10-02 00:04:00+00:00 73.85363\n",
      "2020-10-02 00:06:00+00:00 73.86044\n",
      "2020-10-02 00:08:00+00:00 73.8672\n",
      "2020-10-02 00:10:00+00:00 73.87392\n",
      "Time                      SpacecraftRegion\n",
      "2020-10-02 00:00:00+00:00 SpaceRegion.DAYSIDE_MAGNETOSPHERE\n",
      "2020-10-02 00:02:00+00:00 SpaceRegion.DAYSIDE_MAGNETOSPHERE\n",
      "2020-10-02 00:04:00+00:00 SpaceRegion.DAYSIDE_MAGNETOSPHERE\n",
      "2020-10-02 00:06:00+00:00 SpaceRegion.DAYSIDE_MAGNETOSPHERE\n",
      "2020-10-02 00:08:00+00:00 SpaceRegion.DAYSIDE_MAGNETOSPHERE\n",
      "2020-10-02 00:10:00+00:00 SpaceRegion.DAYSIDE_MAGNETOSPHERE\n",
      "Time                      RadialTracedFootpointRegions\n",
      "2020-10-02 00:00:00+00:00 FootpointRegion.LOW_LATITUDE\n",
      "2020-10-02 00:02:00+00:00 FootpointRegion.LOW_LATITUDE\n",
      "2020-10-02 00:04:00+00:00 FootpointRegion.LOW_LATITUDE\n",
      "2020-10-02 00:06:00+00:00 FootpointRegion.LOW_LATITUDE\n",
      "2020-10-02 00:08:00+00:00 FootpointRegion.LOW_LATITUDE\n",
      "2020-10-02 00:10:00+00:00 FootpointRegion.LOW_LATITUDE\n",
      "Time                      NorthBTracedFootpointRegions\n",
      "2020-10-02 00:00:00+00:00 FootpointRegion.NOT_APPLICABLE\n",
      "2020-10-02 00:02:00+00:00 FootpointRegion.NOT_APPLICABLE\n",
      "2020-10-02 00:04:00+00:00 FootpointRegion.NOT_APPLICABLE\n",
      "2020-10-02 00:06:00+00:00 FootpointRegion.NOT_APPLICABLE\n",
      "2020-10-02 00:08:00+00:00 FootpointRegion.NOT_APPLICABLE\n",
      "2020-10-02 00:10:00+00:00 FootpointRegion.NOT_APPLICABLE\n",
      "Time                      SouthBTracedFootpointRegions\n",
      "2020-10-02 00:00:00+00:00 FootpointRegion.SOUTH_AURORAL_OVAL\n",
      "2020-10-02 00:02:00+00:00 FootpointRegion.SOUTH_AURORAL_OVAL\n",
      "2020-10-02 00:04:00+00:00 FootpointRegion.SOUTH_AURORAL_OVAL\n",
      "2020-10-02 00:06:00+00:00 FootpointRegion.SOUTH_AURORAL_OVAL\n",
      "2020-10-02 00:08:00+00:00 FootpointRegion.SOUTH_AURORAL_OVAL\n",
      "2020-10-02 00:10:00+00:00 FootpointRegion.SOUTH_AURORAL_OVAL\n",
      "Time                              B Strength GSE        \n",
      "                              X         Y         Z    \n",
      "2020-10-02T00:00:00+00:00 -5.194202  1.483673 31.351983\n",
      "2020-10-02T00:02:00+00:00 -5.271438  1.605927 31.323057\n",
      "2020-10-02T00:04:00+00:00 -5.349014  1.727925 31.294281\n",
      "2020-10-02T00:06:00+00:00 -5.426896  1.849599 31.265695\n",
      "2020-10-02T00:08:00+00:00 -5.505079  1.970929 31.237224\n",
      "2020-10-02T00:10:00+00:00 -5.583592  2.091986 31.208894\n"
     ]
    }
   ],
   "source": [
    "result = ssc.get_locations(loc_request)\n",
    "if result['HttpStatus'] == 200:\n",
    "    SscWs.print_locations_result(result)\n",
    "else:\n",
    "    print('ssc.get_locations failed with status = ', result['HttpStatus'])\n",
    "    if 'ErrorMessage' in result:\n",
    "        print('ErrorMessage = ', result['ErrorMessage'])\n",
    "        print('ErrorDescription = ', result['ErrorDescription'])\n",
    "    else:\n",
    "        print('HttpText = ', result['ErrorText'])\n"
   ]
  },
  {
   "cell_type": "markdown",
   "metadata": {},
   "source": [
    "## Error Handling\n",
    "The following code creates an invalid request and demonstrates how to display the error message."
   ]
  },
  {
   "cell_type": "code",
   "execution_count": 5,
   "metadata": {},
   "outputs": [
    {
     "name": "stdout",
     "output_type": "stream",
     "text": [
      "ssc.get_locations failed with status =  400\n",
      "ErrorMessage =  Invalid Request.\n",
      "ErrorDescription =  4th coordinate listing option is a duplicate of an earlier option\n"
     ]
    }
   ],
   "source": [
    "# add a duplicate option to cause an error\n",
    "coord_options.insert(4, CoordinateOptions(CoordinateSystem.GSE, CoordinateComponent.LAT))\n",
    "\n",
    "loc_request = DataRequest('themisa b-trace locator request.',\n",
    "                          TimeInterval('2020-10-02T00:00:00Z',\n",
    "                                       '2020-10-02T00:10:00Z'),\n",
    "                           sats, b_field_model,\n",
    "                           output_options, None,\n",
    "                           None, format_options)\n",
    "result = ssc.get_locations(loc_request)\n",
    "if result['HttpStatus'] == 200:\n",
    "    SscWs.print_locations_result(result)\n",
    "else:\n",
    "    print('ssc.get_locations failed with status = ', result['HttpStatus'])\n",
    "    if 'ErrorMessage' in result:\n",
    "        print('ErrorMessage = ', result['ErrorMessage'])\n",
    "        print('ErrorDescription = ', result['ErrorDescription'])\n",
    "    else:\n",
    "        print('HttpText = ', result['ErrorText'])"
   ]
  },
  {
   "cell_type": "markdown",
   "metadata": {},
   "source": [
    "## Additional Documentation\n",
    "View the [sscws API](/WebServices/REST/py/sscws/) for additonal features.  Additional [notebook examples](https://sscweb.gsfc.nasa.gov/WebServices/REST/#Jupyter_Notebook_Examples) are also available."
   ]
  },
  {
   "cell_type": "code",
   "execution_count": null,
   "metadata": {},
   "outputs": [],
   "source": []
  }
 ],
 "metadata": {
  "kernelspec": {
   "display_name": "Python 3",
   "language": "python",
   "name": "python3"
  },
  "language_info": {
   "codemirror_mode": {
    "name": "ipython",
    "version": 3
   },
   "file_extension": ".py",
   "mimetype": "text/x-python",
   "name": "python",
   "nbconvert_exporter": "python",
   "pygments_lexer": "ipython3",
   "version": "3.6.12"
  }
 },
 "nbformat": 4,
 "nbformat_minor": 4
}
